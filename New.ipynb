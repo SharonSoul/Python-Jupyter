{
 "cells": [
  {
   "cell_type": "code",
   "execution_count": 34,
   "id": "7b3d0cd4",
   "metadata": {},
   "outputs": [
    {
     "name": "stdout",
     "output_type": "stream",
     "text": [
      "What is the value of the temp in celsius: 50\n",
      "Your desired temp in f is 59.77777777777778 \n"
     ]
    }
   ],
   "source": [
    "def tempConv(x):\n",
    "    avg = x / (9/5) + 32\n",
    "    return avg\n",
    "    \n",
    "x = int(input(\"What is the value of the temp in celsius: \"))\n",
    "avg = tempConv(x)\n",
    "print(f\"Your desired temp in f is {avg} \")"
   ]
  },
  {
   "cell_type": "code",
   "execution_count": 59,
   "id": "786d5534",
   "metadata": {},
   "outputs": [
    {
     "name": "stdout",
     "output_type": "stream",
     "text": [
      "What are the phrases? gyuk yugkuy yukkg\n",
      "the word is <built-in method upper of str object at 0x0000020BD3E17FB0>\n"
     ]
    }
   ],
   "source": [
    "def acr():\n",
    "    j = info.split()\n",
    "    for t in j:    \n",
    "        k = j[0:1][0]\n",
    "        return k.upper\n",
    "    \n",
    "info = str(input(\"What are the phrases? \"))\n",
    "yy = acr()\n",
    "print(f\"the word is {yy}\")"
   ]
  },
  {
   "cell_type": "code",
   "execution_count": 41,
   "id": "ce7bb002",
   "metadata": {},
   "outputs": [],
   "source": [
    "u = \"ewfuiwlnejkf iubliuh yguouiun\""
   ]
  },
  {
   "cell_type": "code",
   "execution_count": 50,
   "id": "cb914f03",
   "metadata": {
    "scrolled": true
   },
   "outputs": [],
   "source": [
    "h = u.split()"
   ]
  },
  {
   "cell_type": "code",
   "execution_count": 53,
   "id": "01fddef5",
   "metadata": {},
   "outputs": [
    {
     "name": "stdout",
     "output_type": "stream",
     "text": [
      "e\n",
      "i\n",
      "y\n"
     ]
    }
   ],
   "source": [
    "for i in h:\n",
    "    o = i[0:1][0]\n",
    "    print(o)"
   ]
  },
  {
   "cell_type": "code",
   "execution_count": null,
   "id": "450f07aa",
   "metadata": {},
   "outputs": [],
   "source": []
  }
 ],
 "metadata": {
  "kernelspec": {
   "display_name": "Python 3 (ipykernel)",
   "language": "python",
   "name": "python3"
  },
  "language_info": {
   "codemirror_mode": {
    "name": "ipython",
    "version": 3
   },
   "file_extension": ".py",
   "mimetype": "text/x-python",
   "name": "python",
   "nbconvert_exporter": "python",
   "pygments_lexer": "ipython3",
   "version": "3.9.12"
  }
 },
 "nbformat": 4,
 "nbformat_minor": 5
}
