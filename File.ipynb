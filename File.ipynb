{
 "cells": [
  {
   "cell_type": "markdown",
   "id": "61b5a913",
   "metadata": {},
   "source": [
    "# HELLO, THIS IS THE BEGINING OF MY TECH JOURNEY\n",
    "## FOUNDATIONS OF PYTHON PROGRAMMING\n",
    "### SHARON OLAITAN\n",
    "#### BASIC ARITHMETICS IN PYTHON"
   ]
  },
  {
   "cell_type": "code",
   "execution_count": 1,
   "id": "2727e8c6",
   "metadata": {},
   "outputs": [
    {
     "data": {
      "text/plain": [
       "17"
      ]
     },
     "execution_count": 1,
     "metadata": {},
     "output_type": "execute_result"
    }
   ],
   "source": [
    "\n",
    "8 + 9"
   ]
  },
  {
   "cell_type": "code",
   "execution_count": 2,
   "id": "dc71cac4",
   "metadata": {},
   "outputs": [
    {
     "data": {
      "text/plain": [
       "8"
      ]
     },
     "execution_count": 2,
     "metadata": {},
     "output_type": "execute_result"
    }
   ],
   "source": [
    "# Addition\n",
    "1 + 7"
   ]
  },
  {
   "cell_type": "code",
   "execution_count": null,
   "id": "27a04024",
   "metadata": {},
   "outputs": [],
   "source": []
  },
  {
   "cell_type": "code",
   "execution_count": 3,
   "id": "817f42f0",
   "metadata": {},
   "outputs": [
    {
     "data": {
      "text/plain": [
       "24"
      ]
     },
     "execution_count": 3,
     "metadata": {},
     "output_type": "execute_result"
    }
   ],
   "source": [
    "# Subtraction\n",
    "50 - 26"
   ]
  },
  {
   "cell_type": "code",
   "execution_count": 4,
   "id": "8b05e974",
   "metadata": {},
   "outputs": [
    {
     "data": {
      "text/plain": [
       "96"
      ]
     },
     "execution_count": 4,
     "metadata": {},
     "output_type": "execute_result"
    }
   ],
   "source": [
    "# Multiplication\n",
    "12 * 8"
   ]
  },
  {
   "cell_type": "code",
   "execution_count": 5,
   "id": "5a308655",
   "metadata": {},
   "outputs": [
    {
     "data": {
      "text/plain": [
       "5.0"
      ]
     },
     "execution_count": 5,
     "metadata": {},
     "output_type": "execute_result"
    }
   ],
   "source": [
    "# Division\n",
    "15 / 3"
   ]
  },
  {
   "cell_type": "code",
   "execution_count": 6,
   "id": "3efa118a",
   "metadata": {
    "scrolled": true
   },
   "outputs": [
    {
     "data": {
      "text/plain": [
       "1"
      ]
     },
     "execution_count": 6,
     "metadata": {},
     "output_type": "execute_result"
    }
   ],
   "source": [
    "# Modulus/Remainder\n",
    "16 % 5"
   ]
  },
  {
   "cell_type": "code",
   "execution_count": 2,
   "id": "b2717dd4",
   "metadata": {},
   "outputs": [
    {
     "data": {
      "text/plain": [
       "1"
      ]
     },
     "execution_count": 2,
     "metadata": {},
     "output_type": "execute_result"
    }
   ],
   "source": [
    "7 % 3"
   ]
  },
  {
   "cell_type": "code",
   "execution_count": 7,
   "id": "6b5e25c4",
   "metadata": {},
   "outputs": [
    {
     "data": {
      "text/plain": [
       "8"
      ]
     },
     "execution_count": 7,
     "metadata": {},
     "output_type": "execute_result"
    }
   ],
   "source": [
    "# Power\n",
    "2 ** 3"
   ]
  },
  {
   "cell_type": "code",
   "execution_count": 4,
   "id": "eba97e1b",
   "metadata": {},
   "outputs": [
    {
     "data": {
      "text/plain": [
       "15625"
      ]
     },
     "execution_count": 4,
     "metadata": {},
     "output_type": "execute_result"
    }
   ],
   "source": [
    "5 ** 6"
   ]
  },
  {
   "cell_type": "markdown",
   "id": "8965fef9",
   "metadata": {},
   "source": [
    "## PYTHON SCALAR TYPES\n",
    "\n",
    "1. Integer\n",
    "2. String\n",
    "3. Float\n",
    "4. Boolean"
   ]
  },
  {
   "cell_type": "code",
   "execution_count": 8,
   "id": "b91110b0",
   "metadata": {},
   "outputs": [
    {
     "data": {
      "text/plain": [
       "int"
      ]
     },
     "execution_count": 8,
     "metadata": {},
     "output_type": "execute_result"
    }
   ],
   "source": [
    "type(7)"
   ]
  },
  {
   "cell_type": "code",
   "execution_count": 6,
   "id": "3897011d",
   "metadata": {},
   "outputs": [
    {
     "data": {
      "text/plain": [
       "str"
      ]
     },
     "execution_count": 6,
     "metadata": {},
     "output_type": "execute_result"
    }
   ],
   "source": [
    "type(\"ade\")"
   ]
  },
  {
   "cell_type": "code",
   "execution_count": 10,
   "id": "67bec211",
   "metadata": {},
   "outputs": [
    {
     "data": {
      "text/plain": [
       "float"
      ]
     },
     "execution_count": 10,
     "metadata": {},
     "output_type": "execute_result"
    }
   ],
   "source": [
    "type(3.4)"
   ]
  },
  {
   "cell_type": "code",
   "execution_count": 11,
   "id": "c204892a",
   "metadata": {},
   "outputs": [
    {
     "data": {
      "text/plain": [
       "bool"
      ]
     },
     "execution_count": 11,
     "metadata": {},
     "output_type": "execute_result"
    }
   ],
   "source": [
    "type(True)"
   ]
  },
  {
   "cell_type": "code",
   "execution_count": 12,
   "id": "e2cab062",
   "metadata": {},
   "outputs": [
    {
     "data": {
      "text/plain": [
       "bool"
      ]
     },
     "execution_count": 12,
     "metadata": {},
     "output_type": "execute_result"
    }
   ],
   "source": [
    "type(False)"
   ]
  },
  {
   "cell_type": "markdown",
   "id": "5c1ac7b5",
   "metadata": {},
   "source": [
    "## Assigning Of Variables"
   ]
  },
  {
   "cell_type": "code",
   "execution_count": 13,
   "id": "491ce250",
   "metadata": {},
   "outputs": [],
   "source": [
    "x = 5"
   ]
  },
  {
   "cell_type": "code",
   "execution_count": 14,
   "id": "93fca6cc",
   "metadata": {},
   "outputs": [
    {
     "data": {
      "text/plain": [
       "int"
      ]
     },
     "execution_count": 14,
     "metadata": {},
     "output_type": "execute_result"
    }
   ],
   "source": [
    "type(x)"
   ]
  },
  {
   "cell_type": "code",
   "execution_count": 15,
   "id": "f4207021",
   "metadata": {},
   "outputs": [],
   "source": [
    "y = \"data science\""
   ]
  },
  {
   "cell_type": "code",
   "execution_count": 16,
   "id": "60682664",
   "metadata": {},
   "outputs": [
    {
     "data": {
      "text/plain": [
       "str"
      ]
     },
     "execution_count": 16,
     "metadata": {},
     "output_type": "execute_result"
    }
   ],
   "source": [
    "type(y)"
   ]
  },
  {
   "cell_type": "code",
   "execution_count": 17,
   "id": "5560e65a",
   "metadata": {},
   "outputs": [
    {
     "name": "stdout",
     "output_type": "stream",
     "text": [
      "5\n"
     ]
    }
   ],
   "source": [
    "print(x)"
   ]
  },
  {
   "cell_type": "code",
   "execution_count": 18,
   "id": "a847ff03",
   "metadata": {},
   "outputs": [
    {
     "name": "stdout",
     "output_type": "stream",
     "text": [
      "data science\n"
     ]
    }
   ],
   "source": [
    "print(y)"
   ]
  },
  {
   "cell_type": "code",
   "execution_count": 21,
   "id": "325c943f",
   "metadata": {},
   "outputs": [
    {
     "data": {
      "text/plain": [
       "15"
      ]
     },
     "execution_count": 21,
     "metadata": {},
     "output_type": "execute_result"
    }
   ],
   "source": [
    "x + 10"
   ]
  },
  {
   "cell_type": "code",
   "execution_count": 24,
   "id": "498b9f63",
   "metadata": {},
   "outputs": [
    {
     "data": {
      "text/plain": [
       "'data sciencedata sciencedata sciencedata sciencedata science'"
      ]
     },
     "execution_count": 24,
     "metadata": {},
     "output_type": "execute_result"
    }
   ],
   "source": [
    "y * 5"
   ]
  },
  {
   "cell_type": "markdown",
   "id": "f7e14210",
   "metadata": {},
   "source": [
    "## Reassignment of Variables"
   ]
  },
  {
   "cell_type": "code",
   "execution_count": 13,
   "id": "4bd59498",
   "metadata": {},
   "outputs": [],
   "source": [
    "x =5"
   ]
  },
  {
   "cell_type": "code",
   "execution_count": 14,
   "id": "48d849b5",
   "metadata": {},
   "outputs": [],
   "source": [
    "x = x+10"
   ]
  },
  {
   "cell_type": "code",
   "execution_count": 15,
   "id": "475bb12b",
   "metadata": {},
   "outputs": [
    {
     "name": "stdout",
     "output_type": "stream",
     "text": [
      "15\n"
     ]
    }
   ],
   "source": [
    "print(x)"
   ]
  },
  {
   "cell_type": "code",
   "execution_count": 16,
   "id": "ac804ea8",
   "metadata": {},
   "outputs": [],
   "source": [
    "x+=10"
   ]
  },
  {
   "cell_type": "code",
   "execution_count": 17,
   "id": "a27ccfbf",
   "metadata": {},
   "outputs": [
    {
     "name": "stdout",
     "output_type": "stream",
     "text": [
      "25\n"
     ]
    }
   ],
   "source": [
    "print(x)"
   ]
  },
  {
   "cell_type": "code",
   "execution_count": null,
   "id": "9f26c773",
   "metadata": {},
   "outputs": [],
   "source": []
  },
  {
   "cell_type": "code",
   "execution_count": 28,
   "id": "154e8b57",
   "metadata": {},
   "outputs": [
    {
     "data": {
      "text/plain": [
       "'Hello World'"
      ]
     },
     "execution_count": 28,
     "metadata": {},
     "output_type": "execute_result"
    }
   ],
   "source": [
    "\"Hello World\""
   ]
  },
  {
   "cell_type": "code",
   "execution_count": 30,
   "id": "12156f35",
   "metadata": {},
   "outputs": [],
   "source": [
    "intro = \"My name is Peace Afolayan, I'm a python programmer\""
   ]
  },
  {
   "cell_type": "code",
   "execution_count": 31,
   "id": "da17f886",
   "metadata": {},
   "outputs": [
    {
     "data": {
      "text/plain": [
       "50"
      ]
     },
     "execution_count": 31,
     "metadata": {},
     "output_type": "execute_result"
    }
   ],
   "source": [
    "len(intro)"
   ]
  },
  {
   "cell_type": "markdown",
   "id": "43a39c8a",
   "metadata": {},
   "source": [
    "### 1. Indexing\n",
    "### 2. Slicing"
   ]
  },
  {
   "cell_type": "code",
   "execution_count": 32,
   "id": "6a78e528",
   "metadata": {},
   "outputs": [],
   "source": [
    "z = \"peace\""
   ]
  },
  {
   "cell_type": "code",
   "execution_count": 33,
   "id": "9144abb0",
   "metadata": {},
   "outputs": [
    {
     "data": {
      "text/plain": [
       "5"
      ]
     },
     "execution_count": 33,
     "metadata": {},
     "output_type": "execute_result"
    }
   ],
   "source": [
    "len(z)"
   ]
  },
  {
   "cell_type": "code",
   "execution_count": 34,
   "id": "5d28d0b0",
   "metadata": {},
   "outputs": [
    {
     "data": {
      "text/plain": [
       "'e'"
      ]
     },
     "execution_count": 34,
     "metadata": {},
     "output_type": "execute_result"
    }
   ],
   "source": [
    "z[-1]"
   ]
  },
  {
   "cell_type": "code",
   "execution_count": 35,
   "id": "69099163",
   "metadata": {},
   "outputs": [
    {
     "data": {
      "text/plain": [
       "'a'"
      ]
     },
     "execution_count": 35,
     "metadata": {},
     "output_type": "execute_result"
    }
   ],
   "source": [
    "z[2]"
   ]
  },
  {
   "cell_type": "code",
   "execution_count": 36,
   "id": "adaf5ae7",
   "metadata": {},
   "outputs": [],
   "source": [
    "p = \"science\""
   ]
  },
  {
   "cell_type": "code",
   "execution_count": 37,
   "id": "a304423f",
   "metadata": {},
   "outputs": [
    {
     "data": {
      "text/plain": [
       "7"
      ]
     },
     "execution_count": 37,
     "metadata": {},
     "output_type": "execute_result"
    }
   ],
   "source": [
    "len(p)"
   ]
  },
  {
   "cell_type": "code",
   "execution_count": 41,
   "id": "340af39c",
   "metadata": {},
   "outputs": [
    {
     "data": {
      "text/plain": [
       "'e'"
      ]
     },
     "execution_count": 41,
     "metadata": {},
     "output_type": "execute_result"
    }
   ],
   "source": [
    "p[-4]"
   ]
  },
  {
   "cell_type": "code",
   "execution_count": 42,
   "id": "2d096979",
   "metadata": {},
   "outputs": [],
   "source": [
    "#print (\"Peace is giving [a backward slash is meant to be here]n me good vibes\")\n",
    "# the backward slash and 'n' in the midst of the string cuts it to the next line while a backward slash and't' gives a tab."
   ]
  },
  {
   "cell_type": "code",
   "execution_count": 44,
   "id": "0c426f51",
   "metadata": {},
   "outputs": [],
   "source": [
    "#SLICING\n",
    "# this is a method of extracing a certain part of an element without necessarily taking into consideration the entire element.\n",
    "a = \"machine\""
   ]
  },
  {
   "cell_type": "code",
   "execution_count": 45,
   "id": "77a69481",
   "metadata": {},
   "outputs": [
    {
     "data": {
      "text/plain": [
       "'ach'"
      ]
     },
     "execution_count": 45,
     "metadata": {},
     "output_type": "execute_result"
    }
   ],
   "source": [
    "# start index corresponds to where the slice will begin\n",
    "a[1:4]"
   ]
  },
  {
   "cell_type": "code",
   "execution_count": 48,
   "id": "df6581cf",
   "metadata": {},
   "outputs": [
    {
     "data": {
      "text/plain": [
       "'mcie'"
      ]
     },
     "execution_count": 48,
     "metadata": {},
     "output_type": "execute_result"
    }
   ],
   "source": [
    "# stop index corresponds to where the slice will stop excluding the indexed character\n",
    "# step/increment index indicates how many characters you skip as you graduate further\n",
    "a[0:7:2]"
   ]
  },
  {
   "cell_type": "code",
   "execution_count": 49,
   "id": "5cef9539",
   "metadata": {},
   "outputs": [],
   "source": [
    "word = \"college\""
   ]
  },
  {
   "cell_type": "code",
   "execution_count": 50,
   "id": "a65d3760",
   "metadata": {},
   "outputs": [
    {
     "data": {
      "text/plain": [
       "'coll'"
      ]
     },
     "execution_count": 50,
     "metadata": {},
     "output_type": "execute_result"
    }
   ],
   "source": [
    "word[0:4]"
   ]
  },
  {
   "cell_type": "code",
   "execution_count": 51,
   "id": "245a5af2",
   "metadata": {},
   "outputs": [
    {
     "data": {
      "text/plain": [
       "'cle'"
      ]
     },
     "execution_count": 51,
     "metadata": {},
     "output_type": "execute_result"
    }
   ],
   "source": [
    "word[0:7:3]"
   ]
  },
  {
   "cell_type": "code",
   "execution_count": 52,
   "id": "9cb86a40",
   "metadata": {},
   "outputs": [
    {
     "data": {
      "text/plain": [
       "'llege'"
      ]
     },
     "execution_count": 52,
     "metadata": {},
     "output_type": "execute_result"
    }
   ],
   "source": [
    "#the slicing format; [start:stop:step]\n",
    "word[2:]"
   ]
  },
  {
   "cell_type": "code",
   "execution_count": 53,
   "id": "41f86dff",
   "metadata": {},
   "outputs": [
    {
     "data": {
      "text/plain": [
       "'co'"
      ]
     },
     "execution_count": 53,
     "metadata": {},
     "output_type": "execute_result"
    }
   ],
   "source": [
    "word[:2]"
   ]
  },
  {
   "cell_type": "code",
   "execution_count": 57,
   "id": "38b62a6f",
   "metadata": {},
   "outputs": [],
   "source": [
    "train = [1,2,3,4,5,6,7,8,9,0,12,13,13,14,15,13,14]"
   ]
  },
  {
   "cell_type": "code",
   "execution_count": 58,
   "id": "7a85c365",
   "metadata": {},
   "outputs": [
    {
     "data": {
      "text/plain": [
       "[1, 3, 5, 7, 9, 12, 13, 15]"
      ]
     },
     "execution_count": 58,
     "metadata": {},
     "output_type": "execute_result"
    }
   ],
   "source": [
    "train[0:16:2]"
   ]
  },
  {
   "cell_type": "code",
   "execution_count": 69,
   "id": "9c8a748f",
   "metadata": {},
   "outputs": [],
   "source": [
    "basic = \"hello world I'm interested in artificial intelligence\""
   ]
  },
  {
   "cell_type": "code",
   "execution_count": 70,
   "id": "6046eb15",
   "metadata": {},
   "outputs": [
    {
     "data": {
      "text/plain": [
       "\"HELLO WORLD I'M INTERESTED IN ARTIFICIAL INTELLIGENCE\""
      ]
     },
     "execution_count": 70,
     "metadata": {},
     "output_type": "execute_result"
    }
   ],
   "source": [
    "basic.upper()"
   ]
  },
  {
   "cell_type": "code",
   "execution_count": 71,
   "id": "52d31cd7",
   "metadata": {},
   "outputs": [
    {
     "data": {
      "text/plain": [
       "\"hello world i'm interested in artificial intelligence\""
      ]
     },
     "execution_count": 71,
     "metadata": {},
     "output_type": "execute_result"
    }
   ],
   "source": [
    "basic.lower()"
   ]
  },
  {
   "cell_type": "code",
   "execution_count": 72,
   "id": "b23b31f1",
   "metadata": {},
   "outputs": [
    {
     "data": {
      "text/plain": [
       "\"Hello World I'M Interested In Artificial Intelligence\""
      ]
     },
     "execution_count": 72,
     "metadata": {},
     "output_type": "execute_result"
    }
   ],
   "source": [
    "basic.title()"
   ]
  },
  {
   "cell_type": "code",
   "execution_count": 73,
   "id": "cdbd07b6",
   "metadata": {},
   "outputs": [
    {
     "data": {
      "text/plain": [
       "['hello', 'world', \"I'm\", 'interested', 'in', 'artificial', 'intelligence']"
      ]
     },
     "execution_count": 73,
     "metadata": {},
     "output_type": "execute_result"
    }
   ],
   "source": [
    "basic.split()"
   ]
  },
  {
   "cell_type": "code",
   "execution_count": 74,
   "id": "e76f39ce",
   "metadata": {},
   "outputs": [
    {
     "data": {
      "text/plain": [
       "\"hello world i'm interested in artificial intelligence\""
      ]
     },
     "execution_count": 74,
     "metadata": {},
     "output_type": "execute_result"
    }
   ],
   "source": [
    "basic.casefold()"
   ]
  },
  {
   "cell_type": "code",
   "execution_count": 68,
   "id": "789adce6",
   "metadata": {},
   "outputs": [
    {
     "data": {
      "text/plain": [
       "[\"hello world I'm \",\n",
       " 'nterested ',\n",
       " 'n ',\n",
       " 'n art',\n",
       " 'f',\n",
       " 'c',\n",
       " 'al ',\n",
       " 'ntell',\n",
       " 'gence']"
      ]
     },
     "execution_count": 68,
     "metadata": {},
     "output_type": "execute_result"
    }
   ],
   "source": [
    "basic.split(\"i\")"
   ]
  },
  {
   "cell_type": "code",
   "execution_count": 82,
   "id": "3178ce8b",
   "metadata": {},
   "outputs": [],
   "source": [
    "test = \"this is a very long piece of text and we are going to use it for practice\""
   ]
  },
  {
   "cell_type": "code",
   "execution_count": 85,
   "id": "bd779308",
   "metadata": {},
   "outputs": [
    {
     "data": {
      "text/plain": [
       "'ext and we are going '"
      ]
     },
     "execution_count": 85,
     "metadata": {},
     "output_type": "execute_result"
    }
   ],
   "source": [
    "test[30:51]"
   ]
  },
  {
   "cell_type": "markdown",
   "id": "a5ecb449",
   "metadata": {},
   "source": [
    "## FORMAT METHOD\n",
    "This is used to perform string intercollation, essentially inserting a variable when printing a string"
   ]
  },
  {
   "cell_type": "code",
   "execution_count": 103,
   "id": "836ff67f",
   "metadata": {},
   "outputs": [
    {
     "name": "stdout",
     "output_type": "stream",
     "text": [
      "This is the first value, add Sharon as the name\n",
      "This is the second value, add 2347065749322 as the number\n"
     ]
    }
   ],
   "source": [
    "my_name = \"Sharon\"\n",
    "my_number = +2347065749322\n",
    "print(f\"This is the first value, add {my_name} as the name\")\n",
    "print(f\"This is the second value, add {my_number} as the number\")"
   ]
  },
  {
   "cell_type": "code",
   "execution_count": 91,
   "id": "6c5a81c2",
   "metadata": {},
   "outputs": [
    {
     "name": "stdout",
     "output_type": "stream",
     "text": [
      "SHARON\n"
     ]
    }
   ],
   "source": [
    "print(my_name.upper())"
   ]
  },
  {
   "cell_type": "code",
   "execution_count": 93,
   "id": "1ae9d404",
   "metadata": {},
   "outputs": [],
   "source": [
    "myName = my_name"
   ]
  },
  {
   "cell_type": "code",
   "execution_count": 94,
   "id": "c5c64c0e",
   "metadata": {},
   "outputs": [
    {
     "data": {
      "text/plain": [
       "'ron'"
      ]
     },
     "execution_count": 94,
     "metadata": {},
     "output_type": "execute_result"
    }
   ],
   "source": [
    "myName[3:6:1]"
   ]
  },
  {
   "cell_type": "code",
   "execution_count": 95,
   "id": "070e58e1",
   "metadata": {},
   "outputs": [
    {
     "data": {
      "text/plain": [
       "'Sh'"
      ]
     },
     "execution_count": 95,
     "metadata": {},
     "output_type": "execute_result"
    }
   ],
   "source": [
    "myName[:2]"
   ]
  },
  {
   "cell_type": "code",
   "execution_count": 1,
   "id": "0a20576f",
   "metadata": {},
   "outputs": [
    {
     "ename": "NameError",
     "evalue": "name 'myName' is not defined",
     "output_type": "error",
     "traceback": [
      "\u001b[1;31m---------------------------------------------------------------------------\u001b[0m",
      "\u001b[1;31mNameError\u001b[0m                                 Traceback (most recent call last)",
      "Input \u001b[1;32mIn [1]\u001b[0m, in \u001b[0;36m<cell line: 1>\u001b[1;34m()\u001b[0m\n\u001b[1;32m----> 1\u001b[0m \u001b[43mmyName\u001b[49m\u001b[38;5;241m.\u001b[39mencode()\n",
      "\u001b[1;31mNameError\u001b[0m: name 'myName' is not defined"
     ]
    }
   ],
   "source": [
    "myName.encode()"
   ]
  },
  {
   "cell_type": "code",
   "execution_count": 104,
   "id": "217c6575",
   "metadata": {},
   "outputs": [
    {
     "name": "stdout",
     "output_type": "stream",
     "text": [
      "My name is Sharon and my phone number is 2347065749322\n"
     ]
    }
   ],
   "source": [
    "print(\"My name is {} and \\my phone number is {}\".format(my_name, my_number))"
   ]
  },
  {
   "cell_type": "code",
   "execution_count": 105,
   "id": "8d99b0b6",
   "metadata": {},
   "outputs": [],
   "source": [
    "another = (\"this is a very long piece of text and we are going to use it for practice\")"
   ]
  },
  {
   "cell_type": "code",
   "execution_count": 108,
   "id": "2352bdcd",
   "metadata": {},
   "outputs": [],
   "source": [
    "now = another[38:60:1]"
   ]
  },
  {
   "cell_type": "code",
   "execution_count": 109,
   "id": "7d2acdaf",
   "metadata": {},
   "outputs": [
    {
     "data": {
      "text/plain": [
       "'We are going to use it'"
      ]
     },
     "execution_count": 109,
     "metadata": {},
     "output_type": "execute_result"
    }
   ],
   "source": [
    "now.capitalize()"
   ]
  },
  {
   "cell_type": "code",
   "execution_count": 110,
   "id": "37b36478",
   "metadata": {},
   "outputs": [
    {
     "data": {
      "text/plain": [
       "'WE ARE GOING TO USE IT'"
      ]
     },
     "execution_count": 110,
     "metadata": {},
     "output_type": "execute_result"
    }
   ],
   "source": [
    "now.upper()"
   ]
  },
  {
   "cell_type": "code",
   "execution_count": 111,
   "id": "e5449e76",
   "metadata": {},
   "outputs": [
    {
     "data": {
      "text/plain": [
       "'we are going to use it'"
      ]
     },
     "execution_count": 111,
     "metadata": {},
     "output_type": "execute_result"
    }
   ],
   "source": [
    "now.lower()"
   ]
  },
  {
   "cell_type": "markdown",
   "id": "aac8f83a",
   "metadata": {},
   "source": [
    "## LIST AND LOOPS\n",
    "We have have learnt that strings are sequences of charaters. Similarly, lists are sequences of objects, they can hold a variety of data types in order, and they follow the same sequence and indexing bracket rules that strings do. They can also take in mixed data types. Let's explore some useful examples:"
   ]
  },
  {
   "cell_type": "code",
   "execution_count": 3,
   "id": "f54f3352",
   "metadata": {},
   "outputs": [],
   "source": [
    "a = 100\n",
    "b = 200\n",
    "c = 300\n",
    "ram = [a, b, c]"
   ]
  },
  {
   "cell_type": "code",
   "execution_count": 5,
   "id": "dde4a84d",
   "metadata": {},
   "outputs": [
    {
     "data": {
      "text/plain": [
       "300"
      ]
     },
     "execution_count": 5,
     "metadata": {},
     "output_type": "execute_result"
    }
   ],
   "source": [
    "ram[2]"
   ]
  },
  {
   "cell_type": "code",
   "execution_count": 6,
   "id": "328b5e00",
   "metadata": {},
   "outputs": [
    {
     "data": {
      "text/plain": [
       "3"
      ]
     },
     "execution_count": 6,
     "metadata": {},
     "output_type": "execute_result"
    }
   ],
   "source": [
    "len(ram)"
   ]
  },
  {
   "cell_type": "code",
   "execution_count": 7,
   "id": "438a122d",
   "metadata": {},
   "outputs": [],
   "source": [
    "ram.append(9)"
   ]
  },
  {
   "cell_type": "code",
   "execution_count": 8,
   "id": "e48c3947",
   "metadata": {},
   "outputs": [
    {
     "name": "stdout",
     "output_type": "stream",
     "text": [
      "[100, 200, 300, 9]\n"
     ]
    }
   ],
   "source": [
    "print(ram)"
   ]
  },
  {
   "cell_type": "code",
   "execution_count": 12,
   "id": "a9277fad",
   "metadata": {},
   "outputs": [
    {
     "data": {
      "text/plain": [
       "9"
      ]
     },
     "execution_count": 12,
     "metadata": {},
     "output_type": "execute_result"
    }
   ],
   "source": [
    "ram.pop(2)"
   ]
  },
  {
   "cell_type": "code",
   "execution_count": 13,
   "id": "d18f3b91",
   "metadata": {},
   "outputs": [
    {
     "name": "stdout",
     "output_type": "stream",
     "text": [
      "[100, 300]\n"
     ]
    }
   ],
   "source": [
    "print(ram)"
   ]
  },
  {
   "cell_type": "code",
   "execution_count": 14,
   "id": "d94ce3ef",
   "metadata": {},
   "outputs": [],
   "source": [
    "ram.append(22)"
   ]
  },
  {
   "cell_type": "code",
   "execution_count": 15,
   "id": "3918d535",
   "metadata": {},
   "outputs": [],
   "source": [
    "ram.append(44)"
   ]
  },
  {
   "cell_type": "code",
   "execution_count": 16,
   "id": "12803848",
   "metadata": {},
   "outputs": [
    {
     "name": "stdout",
     "output_type": "stream",
     "text": [
      "[100, 300, 22, 44]\n"
     ]
    }
   ],
   "source": [
    "print(ram)"
   ]
  },
  {
   "cell_type": "code",
   "execution_count": 20,
   "id": "0a4734d8",
   "metadata": {},
   "outputs": [],
   "source": [
    "cow = ram.pop(2)"
   ]
  },
  {
   "cell_type": "code",
   "execution_count": 21,
   "id": "556cc8d7",
   "metadata": {},
   "outputs": [
    {
     "data": {
      "text/plain": [
       "44"
      ]
     },
     "execution_count": 21,
     "metadata": {},
     "output_type": "execute_result"
    }
   ],
   "source": [
    "cow"
   ]
  },
  {
   "cell_type": "code",
   "execution_count": 25,
   "id": "ee2de427",
   "metadata": {},
   "outputs": [],
   "source": [
    "ram.sort(reverse=True)"
   ]
  },
  {
   "cell_type": "code",
   "execution_count": 26,
   "id": "6cd6b94d",
   "metadata": {},
   "outputs": [
    {
     "name": "stdout",
     "output_type": "stream",
     "text": [
      "[300, 22]\n"
     ]
    }
   ],
   "source": [
    "print(ram)"
   ]
  },
  {
   "cell_type": "code",
   "execution_count": 38,
   "id": "85f54a5d",
   "metadata": {},
   "outputs": [],
   "source": [
    "myList = [1, 2, 3]"
   ]
  },
  {
   "cell_type": "code",
   "execution_count": 41,
   "id": "b26f8c19",
   "metadata": {},
   "outputs": [],
   "source": [
    "myList.insert(3, \"middle\")"
   ]
  },
  {
   "cell_type": "code",
   "execution_count": 45,
   "id": "e3b438de",
   "metadata": {},
   "outputs": [
    {
     "data": {
      "text/plain": [
       "[1, 2, 3, 'middle', 'middle']"
      ]
     },
     "execution_count": 45,
     "metadata": {},
     "output_type": "execute_result"
    }
   ],
   "source": [
    "myList"
   ]
  },
  {
   "cell_type": "markdown",
   "id": "acc3c3bc",
   "metadata": {},
   "source": [
    "## NESTED LIST\n",
    "Lists can hold other lists! This is called a nested list"
   ]
  },
  {
   "cell_type": "code",
   "execution_count": 46,
   "id": "138852e4",
   "metadata": {},
   "outputs": [],
   "source": [
    "newlist = [1, 2, 3, [\"a\", \"b\", \"c\"]]"
   ]
  },
  {
   "cell_type": "code",
   "execution_count": 47,
   "id": "29787699",
   "metadata": {},
   "outputs": [
    {
     "data": {
      "text/plain": [
       "['a', 'b', 'c']"
      ]
     },
     "execution_count": 47,
     "metadata": {},
     "output_type": "execute_result"
    }
   ],
   "source": [
    "newlist[3]"
   ]
  },
  {
   "cell_type": "code",
   "execution_count": 48,
   "id": "4393f417",
   "metadata": {},
   "outputs": [
    {
     "data": {
      "text/plain": [
       "list"
      ]
     },
     "execution_count": 48,
     "metadata": {},
     "output_type": "execute_result"
    }
   ],
   "source": [
    "type(newlist)"
   ]
  },
  {
   "cell_type": "code",
   "execution_count": 49,
   "id": "2476205d",
   "metadata": {},
   "outputs": [
    {
     "data": {
      "text/plain": [
       "'a'"
      ]
     },
     "execution_count": 49,
     "metadata": {},
     "output_type": "execute_result"
    }
   ],
   "source": [
    "newlist[3][0]"
   ]
  },
  {
   "cell_type": "code",
   "execution_count": 50,
   "id": "2aaf401b",
   "metadata": {},
   "outputs": [],
   "source": [
    "list1 = [2, 3, \"four\", [20, 30, 40, [\"one\", \"two\", \"three\"]]]"
   ]
  },
  {
   "cell_type": "code",
   "execution_count": 51,
   "id": "b9e99f5d",
   "metadata": {},
   "outputs": [
    {
     "data": {
      "text/plain": [
       "['two', 'three']"
      ]
     },
     "execution_count": 51,
     "metadata": {},
     "output_type": "execute_result"
    }
   ],
   "source": [
    "list1[3][3][1:]"
   ]
  },
  {
   "cell_type": "markdown",
   "id": "d63a7594",
   "metadata": {},
   "source": [
    "### Loops\n",
    "#### While Loops\n",
    "A while loop will repeatedly execute a single statement or group of statements as long as the condition being checked is true. The reason it is called a 'loop' is because the code statements are looped through over and over again until the condition is no longer met.\n",
    "\n",
    "\n",
    "Code indentation becomes very important as we begin to work with loops and control flow."
   ]
  },
  {
   "cell_type": "code",
   "execution_count": 53,
   "id": "16db8eac",
   "metadata": {},
   "outputs": [
    {
     "name": "stdout",
     "output_type": "stream",
     "text": [
      "a is less than 10\n",
      "a is less than 10\n",
      "a is less than 10\n",
      "a is less than 10\n",
      "a is less than 10\n",
      "a is less than 10\n",
      "a is less than 10\n",
      "a is less than 10\n",
      "a is less than 10\n"
     ]
    }
   ],
   "source": [
    "a = 1\n",
    "while a < 10:\n",
    "    print(\"a is less than 10\")\n",
    "    a = a + 1"
   ]
  },
  {
   "cell_type": "code",
   "execution_count": 54,
   "id": "7b931a8a",
   "metadata": {},
   "outputs": [
    {
     "name": "stdout",
     "output_type": "stream",
     "text": [
      "x is currently\n",
      "0\n",
      "adding 1 to x\n",
      "x is currently\n",
      "1\n",
      "adding 1 to x\n",
      "x is currently\n",
      "2\n",
      "adding 1 to x\n"
     ]
    }
   ],
   "source": [
    "x = 0\n",
    "while x < 3:\n",
    "    print(\"x is currently\")\n",
    "    print(x)\n",
    "    print(\"adding 1 to x\")\n",
    "    x = x + 1"
   ]
  },
  {
   "cell_type": "markdown",
   "id": "caf31019",
   "metadata": {},
   "source": [
    "## Note This\n",
    "Be careful with while loops! There is a pontential to write a condition that always remains True, meaning you have an infinite running while loop. If this happens to you, you can stop/restart the kernel. \n",
    "\n",
    "## Break Keyword\n",
    " The break keyword allows you to \"break\" out of the loop that contains the break keyword. For example;"
   ]
  },
  {
   "cell_type": "code",
   "execution_count": 104,
   "id": "1ca50881",
   "metadata": {},
   "outputs": [
    {
     "name": "stdout",
     "output_type": "stream",
     "text": [
      "0\n",
      "adding one to x\n",
      "1\n",
      "adding one to x\n",
      "2\n",
      "adding one to x\n"
     ]
    }
   ],
   "source": [
    "x = 0\n",
    "while x < 10:\n",
    "    print(x)\n",
    "    print(\"adding one to x\")\n",
    "    x = x + 1\n",
    "    if x == 3:\n",
    "    #this will cause to break out of the top loop\n",
    "    #note that if statements don't count as loops\n",
    "        break"
   ]
  },
  {
   "cell_type": "markdown",
   "id": "5189abde",
   "metadata": {},
   "source": [
    "## For Loop \n",
    "A For loop acts as an iterator in Python, it goes through items that are in a sequence or any other iterable item. Objects that we've learnt about that we can iterate over include strings, lists, tuples, and even built in iterables for dictionaries, such as the keys or values."
   ]
  },
  {
   "cell_type": "code",
   "execution_count": 64,
   "id": "fa5e5790",
   "metadata": {
    "scrolled": true
   },
   "outputs": [
    {
     "name": "stdout",
     "output_type": "stream",
     "text": [
      "1\n",
      "4\n",
      "9\n",
      "16\n"
     ]
    }
   ],
   "source": [
    "klist = [1, 2, 3, 4]\n",
    "for num in klist:\n",
    "    print(num**2)"
   ]
  },
  {
   "cell_type": "code",
   "execution_count": 12,
   "id": "67e6bc3d",
   "metadata": {},
   "outputs": [
    {
     "data": {
      "text/plain": [
       "str"
      ]
     },
     "execution_count": 12,
     "metadata": {},
     "output_type": "execute_result"
    }
   ],
   "source": [
    "type(str(True))"
   ]
  },
  {
   "cell_type": "code",
   "execution_count": 11,
   "id": "14a1a12c",
   "metadata": {},
   "outputs": [],
   "source": [
    "h = 'man'"
   ]
  },
  {
   "cell_type": "code",
   "execution_count": null,
   "id": "421ae5be",
   "metadata": {},
   "outputs": [],
   "source": [
    "h."
   ]
  },
  {
   "cell_type": "code",
   "execution_count": 13,
   "id": "ebe42ec0",
   "metadata": {
    "scrolled": false
   },
   "outputs": [
    {
     "ename": "SyntaxError",
     "evalue": "EOL while scanning string literal (1753784445.py, line 1)",
     "output_type": "error",
     "traceback": [
      "\u001b[1;36m  Input \u001b[1;32mIn [13]\u001b[1;36m\u001b[0m\n\u001b[1;33m    z = ['farm', 1.67, 'trees', '1.32', '6.70\"]\u001b[0m\n\u001b[1;37m                                               ^\u001b[0m\n\u001b[1;31mSyntaxError\u001b[0m\u001b[1;31m:\u001b[0m EOL while scanning string literal\n"
     ]
    }
   ],
   "source": [
    "z = ['farm', 1.67, 'trees', '1.32', '6.70\"]"
   ]
  },
  {
   "cell_type": "code",
   "execution_count": 20,
   "id": "19b57155",
   "metadata": {},
   "outputs": [],
   "source": [
    "j = ['You are constant']"
   ]
  },
  {
   "cell_type": "code",
   "execution_count": 25,
   "id": "f5c8dd8f",
   "metadata": {},
   "outputs": [
    {
     "ename": "IndexError",
     "evalue": "list index out of range",
     "output_type": "error",
     "traceback": [
      "\u001b[1;31m---------------------------------------------------------------------------\u001b[0m",
      "\u001b[1;31mIndexError\u001b[0m                                Traceback (most recent call last)",
      "Input \u001b[1;32mIn [25]\u001b[0m, in \u001b[0;36m<cell line: 1>\u001b[1;34m()\u001b[0m\n\u001b[1;32m----> 1\u001b[0m \u001b[43mj\u001b[49m\u001b[43m \u001b[49m\u001b[43m[\u001b[49m\u001b[38;5;241;43m6\u001b[39;49m\u001b[43m]\u001b[49m\n",
      "\u001b[1;31mIndexError\u001b[0m: list index out of range"
     ]
    }
   ],
   "source": [
    "j [6]"
   ]
  },
  {
   "cell_type": "markdown",
   "id": "734c25ed",
   "metadata": {},
   "source": [
    "## FOR LOOP WITH STRINGS"
   ]
  },
  {
   "cell_type": "code",
   "execution_count": 67,
   "id": "7422cc89",
   "metadata": {},
   "outputs": [
    {
     "name": "stdout",
     "output_type": "stream",
     "text": [
      "2\n",
      "5\n",
      "8\n",
      "11\n",
      "14\n",
      "17\n",
      "20\n",
      "23\n",
      "26\n",
      "29\n",
      "32\n",
      "35\n",
      "38\n",
      "41\n",
      "44\n",
      "47\n"
     ]
    }
   ],
   "source": [
    "for i in range (2, 50, 3):\n",
    "    print(i)"
   ]
  },
  {
   "cell_type": "code",
   "execution_count": 68,
   "id": "b5eaca90",
   "metadata": {},
   "outputs": [],
   "source": [
    "tup = (1, 2, 3)"
   ]
  },
  {
   "cell_type": "code",
   "execution_count": 134,
   "id": "a0e6684b",
   "metadata": {},
   "outputs": [
    {
     "name": "stdout",
     "output_type": "stream",
     "text": [
      "0\n",
      "Nice One\n",
      "1\n",
      "Nice One\n",
      "2\n",
      "Nice One\n",
      "3\n",
      "Nice One\n",
      "Okay\n"
     ]
    }
   ],
   "source": [
    "r = 0\n",
    "while r < 10:\n",
    "    print(r)\n",
    "    print(\"Nice One\")\n",
    "    r += 1\n",
    "    if r == 4:\n",
    "        print(\"Okay\")\n",
    "        break\n",
    "        "
   ]
  },
  {
   "cell_type": "code",
   "execution_count": 136,
   "id": "f783f76b",
   "metadata": {},
   "outputs": [
    {
     "data": {
      "text/plain": [
       "1"
      ]
     },
     "execution_count": 136,
     "metadata": {},
     "output_type": "execute_result"
    }
   ],
   "source": [
    "5 - 4"
   ]
  },
  {
   "cell_type": "code",
   "execution_count": 137,
   "id": "1b255d6b",
   "metadata": {},
   "outputs": [
    {
     "data": {
      "text/plain": [
       "25"
      ]
     },
     "execution_count": 137,
     "metadata": {},
     "output_type": "execute_result"
    }
   ],
   "source": [
    "5 * 5"
   ]
  },
  {
   "cell_type": "code",
   "execution_count": 138,
   "id": "d9c968a2",
   "metadata": {},
   "outputs": [
    {
     "data": {
      "text/plain": [
       "5.0"
      ]
     },
     "execution_count": 138,
     "metadata": {},
     "output_type": "execute_result"
    }
   ],
   "source": [
    "35 / 7"
   ]
  },
  {
   "cell_type": "code",
   "execution_count": 139,
   "id": "fba4ebb2",
   "metadata": {},
   "outputs": [
    {
     "data": {
      "text/plain": [
       "5.0"
      ]
     },
     "execution_count": 139,
     "metadata": {},
     "output_type": "execute_result"
    }
   ],
   "source": [
    "35 / 7"
   ]
  },
  {
   "cell_type": "code",
   "execution_count": 140,
   "id": "0aa0a01e",
   "metadata": {},
   "outputs": [
    {
     "data": {
      "text/plain": [
       "0"
      ]
     },
     "execution_count": 140,
     "metadata": {},
     "output_type": "execute_result"
    }
   ],
   "source": [
    "35 % 7"
   ]
  },
  {
   "cell_type": "code",
   "execution_count": 141,
   "id": "4534e5ff",
   "metadata": {},
   "outputs": [
    {
     "data": {
      "text/plain": [
       "1"
      ]
     },
     "execution_count": 141,
     "metadata": {},
     "output_type": "execute_result"
    }
   ],
   "source": [
    "36 % 7"
   ]
  },
  {
   "cell_type": "code",
   "execution_count": 142,
   "id": "81325987",
   "metadata": {},
   "outputs": [
    {
     "data": {
      "text/plain": [
       "25"
      ]
     },
     "execution_count": 142,
     "metadata": {},
     "output_type": "execute_result"
    }
   ],
   "source": [
    "5 ** 2"
   ]
  },
  {
   "cell_type": "code",
   "execution_count": 150,
   "id": "39a3b8da",
   "metadata": {},
   "outputs": [
    {
     "name": "stdout",
     "output_type": "stream",
     "text": [
      "10\n",
      "Your dog is less than 10\n",
      "11\n",
      "Your dog is less than 10\n",
      "12\n",
      "Your dog is less than 10\n",
      "13\n",
      "Your dog is less than 10\n",
      "14\n",
      "Your dog is less than 10\n"
     ]
    }
   ],
   "source": [
    "dog = 10\n",
    "while dog < 20:\n",
    "    print(dog)\n",
    "    print(\"Your dog is less than 10\")\n",
    "    dog += 1\n",
    "    if dog == 15:\n",
    "        break"
   ]
  },
  {
   "cell_type": "code",
   "execution_count": 152,
   "id": "994c6832",
   "metadata": {},
   "outputs": [],
   "source": [
    "tade = [1, 2, 3, [\"a\", \"b\", \"c\", \"d\", [21, 22, \"a\", \"b\", \"d\"]]]"
   ]
  },
  {
   "cell_type": "code",
   "execution_count": 153,
   "id": "320f3af1",
   "metadata": {},
   "outputs": [
    {
     "data": {
      "text/plain": [
       "[21, 22, 'a', 'b', 'd']"
      ]
     },
     "execution_count": 153,
     "metadata": {},
     "output_type": "execute_result"
    }
   ],
   "source": [
    "tade[3][4][0:]"
   ]
  },
  {
   "cell_type": "code",
   "execution_count": 154,
   "id": "97450d84",
   "metadata": {},
   "outputs": [
    {
     "data": {
      "text/plain": [
       "2"
      ]
     },
     "execution_count": 154,
     "metadata": {},
     "output_type": "execute_result"
    }
   ],
   "source": [
    "tade.pop(1)"
   ]
  },
  {
   "cell_type": "code",
   "execution_count": 155,
   "id": "97aa43dc",
   "metadata": {},
   "outputs": [
    {
     "name": "stdout",
     "output_type": "stream",
     "text": [
      "[1, 3, ['a', 'b', 'c', 'd', [21, 22, 'a', 'b', 'd']]]\n"
     ]
    }
   ],
   "source": [
    "print(tade)"
   ]
  },
  {
   "cell_type": "code",
   "execution_count": 158,
   "id": "f7abcd2f",
   "metadata": {},
   "outputs": [],
   "source": [
    "tade.append([\"e\", \"f\", \"g\"])"
   ]
  },
  {
   "cell_type": "code",
   "execution_count": 159,
   "id": "1cf8981c",
   "metadata": {},
   "outputs": [
    {
     "name": "stdout",
     "output_type": "stream",
     "text": [
      "[1, 3, ['a', 'b', 'c', 'd', [21, 22, 'a', 'b', 'd']], ['e', 'f', 'g']]\n"
     ]
    }
   ],
   "source": [
    "print(tade)"
   ]
  },
  {
   "cell_type": "code",
   "execution_count": 166,
   "id": "5a2cd45e",
   "metadata": {},
   "outputs": [],
   "source": [
    "tade.insert(2, [1, 2, 3])"
   ]
  },
  {
   "cell_type": "code",
   "execution_count": 167,
   "id": "addbdb5c",
   "metadata": {},
   "outputs": [
    {
     "name": "stdout",
     "output_type": "stream",
     "text": [
      "[1, 3, [1, 2, 3], ['a', 'b', 'c', 'd', [21, 22, 'a', 'b', 'd']], ['e', 'f', 'g']]\n"
     ]
    }
   ],
   "source": [
    "print(tade)"
   ]
  },
  {
   "cell_type": "code",
   "execution_count": 169,
   "id": "1a2c410c",
   "metadata": {},
   "outputs": [
    {
     "name": "stdout",
     "output_type": "stream",
     "text": [
      "Your score is currently \n",
      "0\n",
      "Adding One to your score\n",
      "Your score is currently \n",
      "1\n",
      "Adding One to your score\n",
      "Your score is currently \n",
      "2\n",
      "Adding One to your score\n",
      "Your score is currently \n",
      "3\n",
      "Adding One to your score\n",
      "Your score is currently \n",
      "4\n",
      "Adding One to your score\n",
      "Your score is currently \n",
      "5\n",
      "Adding One to your score\n",
      "Your score is currently \n",
      "6\n",
      "Adding One to your score\n",
      "Your score is currently \n",
      "7\n",
      "Adding One to your score\n",
      "Your score is currently \n",
      "8\n",
      "Adding One to your score\n",
      "Your score is currently \n",
      "9\n",
      "Adding One to your score\n"
     ]
    }
   ],
   "source": [
    "scores = 0\n",
    "while scores < 10:\n",
    "    print(\"Your score is currently \")\n",
    "    print(scores)\n",
    "    print(\"Adding One to your score\")\n",
    "    scores += 1\n"
   ]
  },
  {
   "cell_type": "code",
   "execution_count": 170,
   "id": "b3d8ec18",
   "metadata": {},
   "outputs": [
    {
     "name": "stdout",
     "output_type": "stream",
     "text": [
      "2\n",
      "6\n",
      "[1, 2, 3, 1, 2, 3]\n",
      "['a', 'b', 'c', 'd', [21, 22, 'a', 'b', 'd'], 'a', 'b', 'c', 'd', [21, 22, 'a', 'b', 'd']]\n",
      "['e', 'f', 'g', 'e', 'f', 'g']\n"
     ]
    }
   ],
   "source": [
    "for num in tade:\n",
    "    print(2 * num)"
   ]
  },
  {
   "cell_type": "code",
   "execution_count": 171,
   "id": "1fece0af",
   "metadata": {},
   "outputs": [
    {
     "name": "stdout",
     "output_type": "stream",
     "text": [
      "1\n",
      "3\n",
      "[1, 2, 3]\n",
      "['a', 'b', 'c', 'd', [21, 22, 'a', 'b', 'd']]\n",
      "['e', 'f', 'g']\n"
     ]
    }
   ],
   "source": [
    "for anything in tade:\n",
    "    print(anything)"
   ]
  },
  {
   "cell_type": "code",
   "execution_count": 177,
   "id": "7562fca3",
   "metadata": {},
   "outputs": [
    {
     "name": "stdout",
     "output_type": "stream",
     "text": [
      "1 3 [1, 2, 3] ['a', 'b', 'c', 'd', [21, 22, 'a', 'b', 'd']] ['e', 'f', 'g'] "
     ]
    }
   ],
   "source": [
    "for num in tade:\n",
    "    print(num, end=\" \")"
   ]
  },
  {
   "cell_type": "code",
   "execution_count": 178,
   "id": "403bd0a2",
   "metadata": {},
   "outputs": [
    {
     "name": "stdout",
     "output_type": "stream",
     "text": [
      "Number\n",
      "Number\n",
      "Number\n",
      "Number\n",
      "Number\n"
     ]
    }
   ],
   "source": [
    "for num in tade:\n",
    "    print(\"Number\")"
   ]
  },
  {
   "cell_type": "code",
   "execution_count": 179,
   "id": "bc0ad6ea",
   "metadata": {},
   "outputs": [
    {
     "name": "stdout",
     "output_type": "stream",
     "text": [
      "1 # 3 # [1, 2, 3] # ['a', 'b', 'c', 'd', [21, 22, 'a', 'b', 'd']] # ['e', 'f', 'g'] # "
     ]
    }
   ],
   "source": [
    "for character in tade:\n",
    "    print(character, end=\" # \")"
   ]
  },
  {
   "cell_type": "code",
   "execution_count": 180,
   "id": "6c5c40d4",
   "metadata": {},
   "outputs": [
    {
     "name": "stdout",
     "output_type": "stream",
     "text": [
      "Letter\n",
      "Letter\n",
      "Letter\n",
      "Letter\n",
      "Letter\n"
     ]
    }
   ],
   "source": [
    "for character in tade:\n",
    "    print(\"Letter\")"
   ]
  },
  {
   "cell_type": "code",
   "execution_count": 182,
   "id": "935638fb",
   "metadata": {},
   "outputs": [],
   "source": [
    "sola = \"This is a number\""
   ]
  },
  {
   "cell_type": "code",
   "execution_count": 189,
   "id": "9c1e2ea3",
   "metadata": {},
   "outputs": [],
   "source": [
    "tupInList = [(\"a\", \"b\", 1), (\"c\", \"d\", 2), (\"e\", \"f\", 3)]"
   ]
  },
  {
   "cell_type": "code",
   "execution_count": 186,
   "id": "52493dc1",
   "metadata": {},
   "outputs": [
    {
     "name": "stdout",
     "output_type": "stream",
     "text": [
      "('a', 'b')\n",
      "('c', 'd')\n",
      "('e', 'f')\n"
     ]
    }
   ],
   "source": [
    "for character in tupInList:\n",
    "    print(character)"
   ]
  },
  {
   "cell_type": "code",
   "execution_count": 187,
   "id": "7de9db98",
   "metadata": {},
   "outputs": [
    {
     "name": "stdout",
     "output_type": "stream",
     "text": [
      "('a', 'b') ('c', 'd') ('e', 'f') "
     ]
    }
   ],
   "source": [
    "for hank in tupInList:\n",
    "    print(hank, end=\" \")"
   ]
  },
  {
   "cell_type": "code",
   "execution_count": 188,
   "id": "9d08c1cb",
   "metadata": {},
   "outputs": [
    {
     "name": "stdout",
     "output_type": "stream",
     "text": [
      "b\n",
      "d\n",
      "f\n"
     ]
    }
   ],
   "source": [
    "for d in tupInList:\n",
    "    print(d[1])"
   ]
  },
  {
   "cell_type": "code",
   "execution_count": 201,
   "id": "2d207251",
   "metadata": {},
   "outputs": [
    {
     "name": "stdout",
     "output_type": "stream",
     "text": [
      "a \t b\n",
      "1 \t c \t d\n",
      "2 \t e \t f\n",
      "3 \t "
     ]
    }
   ],
   "source": [
    "for r,e,d in tupInList:\n",
    "    print(r, end = \" \\t \")\n",
    "    print(e)\n",
    "    print(d, end = \" \\t \")\n",
    "    "
   ]
  },
  {
   "cell_type": "code",
   "execution_count": 209,
   "id": "416c2f43",
   "metadata": {},
   "outputs": [],
   "source": [
    "dict = {\n",
    "    'a':1, 'b':2, 'c':3\n",
    "}"
   ]
  },
  {
   "cell_type": "code",
   "execution_count": 210,
   "id": "de3a615a",
   "metadata": {},
   "outputs": [
    {
     "name": "stdout",
     "output_type": "stream",
     "text": [
      "a\n",
      "b\n",
      "c\n"
     ]
    }
   ],
   "source": [
    "for r in dict:\n",
    "    print(r)"
   ]
  },
  {
   "cell_type": "code",
   "execution_count": 214,
   "id": "6ac84c22",
   "metadata": {},
   "outputs": [
    {
     "name": "stdout",
     "output_type": "stream",
     "text": [
      "a\n",
      "b\n",
      "c\n"
     ]
    }
   ],
   "source": [
    "for r in dict.keys():\n",
    "    print(r)"
   ]
  },
  {
   "cell_type": "code",
   "execution_count": 215,
   "id": "a2dee9ef",
   "metadata": {},
   "outputs": [
    {
     "name": "stdout",
     "output_type": "stream",
     "text": [
      "1\n",
      "2\n",
      "3\n"
     ]
    }
   ],
   "source": [
    "for s in dict.values():\n",
    "    print(s)"
   ]
  },
  {
   "cell_type": "markdown",
   "id": "59268bab",
   "metadata": {},
   "source": [
    "# Tuples\n",
    "Tuples are ordered sequenes just like a list, but have ione major difference, they are immutable. Meaning you can not change them. So in practice, what does this actually mean? It means you can not reassign an item once in its tuple, unlike a list, where you can do a reassignment.\n",
    "\n",
    "## Creating a Tuple\n",
    "You use parenthesis and commas for tuples:"
   ]
  },
  {
   "cell_type": "code",
   "execution_count": 221,
   "id": "e5284ffd",
   "metadata": {},
   "outputs": [],
   "source": [
    "seta = [\"thriller\", \"rock\", \"pop\", \"r&b\", \"blues\", \"pop\", \"r&b\", \"solo\"]"
   ]
  },
  {
   "cell_type": "code",
   "execution_count": 222,
   "id": "fa02c3ff",
   "metadata": {},
   "outputs": [
    {
     "name": "stdout",
     "output_type": "stream",
     "text": [
      "['thriller', 'rock', 'pop', 'r&b', 'blues', 'pop', 'r&b', 'solo']\n"
     ]
    }
   ],
   "source": [
    "print(seta)"
   ]
  },
  {
   "cell_type": "code",
   "execution_count": 223,
   "id": "3f41d84d",
   "metadata": {},
   "outputs": [],
   "source": [
    "album_set = set(seta)"
   ]
  },
  {
   "cell_type": "code",
   "execution_count": 224,
   "id": "7abf7b1d",
   "metadata": {},
   "outputs": [
    {
     "name": "stdout",
     "output_type": "stream",
     "text": [
      "{'rock', 'blues', 'r&b', 'thriller', 'solo', 'pop'}\n"
     ]
    }
   ],
   "source": [
    "print(album_set)"
   ]
  },
  {
   "cell_type": "code",
   "execution_count": 225,
   "id": "95ad8291",
   "metadata": {},
   "outputs": [],
   "source": [
    "setb = {\"loo\", \"how\", \"mei\", \"gracias\", \"merci\", \"mei\", \"loo\"}"
   ]
  },
  {
   "cell_type": "code",
   "execution_count": 226,
   "id": "9d600d3b",
   "metadata": {},
   "outputs": [
    {
     "name": "stdout",
     "output_type": "stream",
     "text": [
      "{'merci', 'how', 'mei', 'gracias', 'loo'}\n"
     ]
    }
   ],
   "source": [
    "print(setb)"
   ]
  },
  {
   "cell_type": "code",
   "execution_count": 229,
   "id": "9ce2083b",
   "metadata": {},
   "outputs": [],
   "source": [
    "setc = list(setb)"
   ]
  },
  {
   "cell_type": "code",
   "execution_count": 230,
   "id": "376a11eb",
   "metadata": {},
   "outputs": [
    {
     "name": "stdout",
     "output_type": "stream",
     "text": [
      "['merci', 'how', 'mei', 'gracias', 'loo']\n"
     ]
    }
   ],
   "source": [
    "print(setc)"
   ]
  },
  {
   "cell_type": "code",
   "execution_count": 233,
   "id": "ec7ab080",
   "metadata": {},
   "outputs": [],
   "source": [
    "setc.insert( 0, \"ijcdjc\")"
   ]
  },
  {
   "cell_type": "code",
   "execution_count": 234,
   "id": "43a8f322",
   "metadata": {},
   "outputs": [
    {
     "name": "stdout",
     "output_type": "stream",
     "text": [
      "['ijcdjc', 'merci', 'how', 'mei', 'gracias', 'loo']\n"
     ]
    }
   ],
   "source": [
    "print(setc)"
   ]
  },
  {
   "cell_type": "markdown",
   "id": "7121d7cf",
   "metadata": {},
   "source": [
    "# Dictionary\n",
    "So far we've only seen how to store data types in sequences like storing characters in a string or items in a\n",
    "list. But what if we want to store information another way? Python support Dictionaries which is a key-item data\n",
    "structure.\n",
    "The choice of deciding between sequences like a list and mappings like a dictionary often depends on the\n",
    "specific situation. As you become a stronger programmer, choosing the right storage format will become more\n",
    "intuitive.\n",
    "Let's cover the basics of dictionaries!"
   ]
  },
  {
   "cell_type": "code",
   "execution_count": 235,
   "id": "062b9a9c",
   "metadata": {},
   "outputs": [
    {
     "data": {
      "text/plain": [
       "True"
      ]
     },
     "execution_count": 235,
     "metadata": {},
     "output_type": "execute_result"
    }
   ],
   "source": [
    "\"merci\" in setc"
   ]
  },
  {
   "cell_type": "code",
   "execution_count": 236,
   "id": "c6b406aa",
   "metadata": {},
   "outputs": [
    {
     "data": {
      "text/plain": [
       "False"
      ]
     },
     "execution_count": 236,
     "metadata": {},
     "output_type": "execute_result"
    }
   ],
   "source": [
    "\"why\" in setc"
   ]
  },
  {
   "cell_type": "markdown",
   "id": "fe6825e4",
   "metadata": {},
   "source": [
    "# FUNCTIONS IN PYTHON\n",
    "Functions are used to break big computer programs into a couple of chunks which helps to organise the program. It is really exciting because you can write a couple of codes and pass it in a function, and then you keep calling the function always rather than the entirety of the written codes.\n",
    "\n",
    "### Certain Things To Be Aware Of\n",
    "1. Functions always begin with the keyword \"def\", which literally means that you are defing a function.\n",
    "2. The name of the function can be anything, however, it should be related to the action of the function.\n",
    "3. As with any built-in function, it must come with a parenthesis after the function name.\n",
    "4. A colon then follows.\n",
    "\n",
    "Any line of function that follows is therefore included in the function."
   ]
  },
  {
   "cell_type": "code",
   "execution_count": 237,
   "id": "ebec002c",
   "metadata": {},
   "outputs": [],
   "source": [
    "def my_guy():\n",
    "    print(\"I like hanging out with my guys\")"
   ]
  },
  {
   "cell_type": "code",
   "execution_count": 239,
   "id": "26242ccd",
   "metadata": {},
   "outputs": [
    {
     "name": "stdout",
     "output_type": "stream",
     "text": [
      "I like hanging out with my guys\n"
     ]
    }
   ],
   "source": [
    "my_guy()"
   ]
  },
  {
   "cell_type": "code",
   "execution_count": 240,
   "id": "815a10f6",
   "metadata": {},
   "outputs": [],
   "source": [
    "def bitcoin_to_usd(btc):\n",
    "    answer = btc * 685\n",
    "    print(answer)"
   ]
  },
  {
   "cell_type": "code",
   "execution_count": 241,
   "id": "84c60b9d",
   "metadata": {},
   "outputs": [
    {
     "name": "stdout",
     "output_type": "stream",
     "text": [
      "257217.5\n"
     ]
    }
   ],
   "source": [
    "bitcoin_to_usd(375.5)"
   ]
  },
  {
   "cell_type": "code",
   "execution_count": 242,
   "id": "83005f5c",
   "metadata": {},
   "outputs": [],
   "source": [
    "def usd_to_naira(usd):\n",
    "    answer = usd * 650\n",
    "    print(answer)"
   ]
  },
  {
   "cell_type": "code",
   "execution_count": 243,
   "id": "4a4a166a",
   "metadata": {},
   "outputs": [
    {
     "name": "stdout",
     "output_type": "stream",
     "text": [
      "487500\n"
     ]
    }
   ],
   "source": [
    "usd_to_naira(750)"
   ]
  },
  {
   "cell_type": "code",
   "execution_count": 244,
   "id": "8c344c68",
   "metadata": {},
   "outputs": [],
   "source": [
    "def allowed_dating_age(my_age):\n",
    "    girls_age = my_age/3 + 10\n",
    "    return girls_age"
   ]
  },
  {
   "cell_type": "code",
   "execution_count": 245,
   "id": "7c8a40e6",
   "metadata": {},
   "outputs": [
    {
     "data": {
      "text/plain": [
       "26.666666666666668"
      ]
     },
     "execution_count": 245,
     "metadata": {},
     "output_type": "execute_result"
    }
   ],
   "source": [
    "allowed_dating_age(50)"
   ]
  },
  {
   "cell_type": "code",
   "execution_count": null,
   "id": "4293c81c",
   "metadata": {},
   "outputs": [],
   "source": [
    "def allowed_dating_age(my_age):\n",
    "    for my_age_in_range(15, 60):\n",
    "        girls_age"
   ]
  },
  {
   "cell_type": "markdown",
   "id": "3a9a9ba3",
   "metadata": {},
   "source": [
    "## Default Values for argument"
   ]
  },
  {
   "cell_type": "code",
   "execution_count": 251,
   "id": "8dd08555",
   "metadata": {},
   "outputs": [],
   "source": [
    "def get_gender(sex):\n",
    "    if sex == \"m\":\n",
    "        sex = \"Male\"\n",
    "    elif sex == \"f\":\n",
    "        sex = \"female\"\n",
    "    print(sex)"
   ]
  },
  {
   "cell_type": "code",
   "execution_count": 252,
   "id": "d5ceae83",
   "metadata": {},
   "outputs": [
    {
     "name": "stdout",
     "output_type": "stream",
     "text": [
      "female\n"
     ]
    }
   ],
   "source": [
    "get_gender(\"f\")"
   ]
  },
  {
   "cell_type": "code",
   "execution_count": null,
   "id": "24c7ff02",
   "metadata": {},
   "outputs": [],
   "source": [
    "def get_gender(sex = \"Unknown\"):\n",
    "    if sex == \"m\":\n",
    "        sex = \"Male\"\n",
    "    elif sex"
   ]
  },
  {
   "cell_type": "code",
   "execution_count": 253,
   "id": "6afb8619",
   "metadata": {},
   "outputs": [],
   "source": [
    "x = \"I am enjoying this class\"\n",
    "def func(x):\n",
    "    print(x)\n",
    "def function(x):\n",
    "    print(x)"
   ]
  },
  {
   "cell_type": "code",
   "execution_count": 254,
   "id": "f45c6b59",
   "metadata": {},
   "outputs": [
    {
     "name": "stdout",
     "output_type": "stream",
     "text": [
      "I am enjoying this class\n"
     ]
    }
   ],
   "source": [
    "func(x)"
   ]
  },
  {
   "cell_type": "markdown",
   "id": "05920ff6",
   "metadata": {},
   "source": [
    "## Flexible Number of Arguments"
   ]
  },
  {
   "cell_type": "code",
   "execution_count": 255,
   "id": "d38bc484",
   "metadata": {},
   "outputs": [],
   "source": [
    "def add_numbers(num1, num2):\n",
    "    total = num1 + num2\n",
    "    return total"
   ]
  },
  {
   "cell_type": "code",
   "execution_count": 258,
   "id": "01f798df",
   "metadata": {},
   "outputs": [
    {
     "data": {
      "text/plain": [
       "11"
      ]
     },
     "execution_count": 258,
     "metadata": {},
     "output_type": "execute_result"
    }
   ],
   "source": [
    "add_numbers(5,6)"
   ]
  },
  {
   "cell_type": "code",
   "execution_count": 263,
   "id": "2d2db9c4",
   "metadata": {},
   "outputs": [],
   "source": [
    "def add_numbers(*args):\n",
    "    total = 0\n",
    "    for i in args:\n",
    "        total += i\n",
    "    print(total)"
   ]
  },
  {
   "cell_type": "code",
   "execution_count": 264,
   "id": "9da4e015",
   "metadata": {},
   "outputs": [
    {
     "name": "stdout",
     "output_type": "stream",
     "text": [
      "10366.39\n"
     ]
    }
   ],
   "source": [
    "add_numbers(10354, 2, 0.39, 10)"
   ]
  },
  {
   "cell_type": "markdown",
   "id": "f0b8d38f",
   "metadata": {},
   "source": [
    "## Unpacking Arguments"
   ]
  },
  {
   "cell_type": "code",
   "execution_count": null,
   "id": "1d5bd39a",
   "metadata": {},
   "outputs": [],
   "source": [
    "def health_calculator(age, litres_of_water, cigs_smoked, excercise_done):\n",
    "    expectancy"
   ]
  },
  {
   "cell_type": "markdown",
   "id": "e340af5d",
   "metadata": {},
   "source": [
    "# EXERCISE"
   ]
  },
  {
   "cell_type": "code",
   "execution_count": 282,
   "id": "4c363d5e",
   "metadata": {},
   "outputs": [],
   "source": [
    "def damage(damage, speed, attacks_per_second):\n",
    "    if damage<0 or speed<0:\n",
    "        print(Invalid)\n",
    "    if attacks_per_second == \"second\":\n",
    "        attacks_per_second = 1\n",
    "    elif attacks_per_second == \"minute\":\n",
    "        attacks_per_second = 60\n",
    "    elif attacks_per_second == \"hour\":\n",
    "        attacks_per_second = 3600\n",
    "    amount = damage * speed * attacks_per_second\n",
    "    return amount"
   ]
  },
  {
   "cell_type": "code",
   "execution_count": 284,
   "id": "24ed65a8",
   "metadata": {},
   "outputs": [
    {
     "data": {
      "text/plain": [
       "2484000"
      ]
     },
     "execution_count": 284,
     "metadata": {},
     "output_type": "execute_result"
    }
   ],
   "source": [
    "damage(23, 30, \"hour\")"
   ]
  },
  {
   "cell_type": "code",
   "execution_count": 5,
   "id": "ae09efba",
   "metadata": {},
   "outputs": [],
   "source": [
    "def okay(bb):\n",
    "    h = bb * 7\n",
    "    return h"
   ]
  },
  {
   "cell_type": "code",
   "execution_count": 1,
   "id": "5be3e7f5",
   "metadata": {},
   "outputs": [],
   "source": [
    "def nairaConverter(usd):\n",
    "    amount = usd * 600\n",
    "    if amount <= 100000:\n",
    "        print(f\"Your Dollar amount is {usd}\")\n",
    "        print(f\"Your current amount in dollars {amount}\")\n",
    "        print(\"Unfortunately, you are still poor.\")\n",
    "    elif amount > 100000  and amount < 200000:\n",
    "        print(f\"Your Dollar amount is {usd}\")\n",
    "        print(f\"Your current amount in naira is {amount}\")\n",
    "        print(\"Not bad, you're coming up.\")\n",
    "    else:\n",
    "        print(f\"Your Dollar amount is {usd}\")\n",
    "        print(f\"Your current amount in naira is {amount}\")\n",
    "        print(\"Wow, you are rich!\")"
   ]
  },
  {
   "cell_type": "code",
   "execution_count": null,
   "id": "e758f367",
   "metadata": {},
   "outputs": [],
   "source": []
  },
  {
   "cell_type": "code",
   "execution_count": 2,
   "id": "ea735a66",
   "metadata": {},
   "outputs": [
    {
     "name": "stdout",
     "output_type": "stream",
     "text": [
      "Your Dollar amount is 300\n",
      "Your current amount in naira is 180000\n",
      "Not bad, you're coming up.\n"
     ]
    }
   ],
   "source": [
    "nairaConverter(300)"
   ]
  },
  {
   "cell_type": "code",
   "execution_count": 9,
   "id": "2f7c8835",
   "metadata": {},
   "outputs": [],
   "source": [
    "def convert():\n",
    "    food = \"Indomie\"\n",
    "    print(food)"
   ]
  },
  {
   "cell_type": "code",
   "execution_count": 10,
   "id": "139e401c",
   "metadata": {},
   "outputs": [
    {
     "name": "stdout",
     "output_type": "stream",
     "text": [
      "Indomie\n"
     ]
    }
   ],
   "source": [
    "convert()"
   ]
  },
  {
   "cell_type": "code",
   "execution_count": 11,
   "id": "856e930d",
   "metadata": {},
   "outputs": [],
   "source": [
    "def usdConverter(usd):\n",
    "    value = usd * 600\n",
    "    print(value)"
   ]
  },
  {
   "cell_type": "code",
   "execution_count": 12,
   "id": "59600a15",
   "metadata": {},
   "outputs": [
    {
     "name": "stdout",
     "output_type": "stream",
     "text": [
      "30000\n"
     ]
    }
   ],
   "source": [
    "usdConverter(50)"
   ]
  },
  {
   "cell_type": "code",
   "execution_count": 22,
   "id": "675a7a19",
   "metadata": {},
   "outputs": [],
   "source": [
    "def datingAge():\n",
    "    yourAge = int(input(\"Kindly specify your age: \"))\n",
    "    girlAge = yourAge / 2 + 7\n",
    "    print(f\"Your age is {yourAge}\")\n",
    "    print(f\"The age you are allowed to date is {girlAge}\")"
   ]
  },
  {
   "cell_type": "code",
   "execution_count": 23,
   "id": "f1b759e2",
   "metadata": {},
   "outputs": [
    {
     "name": "stdout",
     "output_type": "stream",
     "text": [
      "Kindly specify your age: 66\n",
      "Your age is 66\n",
      "The age you are allowed to date is 40.0\n"
     ]
    }
   ],
   "source": [
    "datingAge()"
   ]
  },
  {
   "cell_type": "code",
   "execution_count": 48,
   "id": "227df753",
   "metadata": {},
   "outputs": [],
   "source": [
    "def marriageAge():\n",
    "    myAge = int(input(\"Kindly specify your age: \"))\n",
    "    if myAge < 20:\n",
    "        print(\"You are ineligible to get married\")\n",
    "    elif myAge > 20 and myAge < 30:\n",
    "        print(\"You are still too young to get married\")\n",
    "    else:\n",
    "        print(\"You are old enough\")"
   ]
  },
  {
   "cell_type": "code",
   "execution_count": 32,
   "id": "1a47efff",
   "metadata": {},
   "outputs": [],
   "source": [
    "def allowedAge(theAge):\n",
    "    if theAge in range(10,40):\n",
    "        print(\"Congratulations!\")\n",
    "    elif theAge in range(50,80):\n",
    "        print(\"Double congratulations\")\n",
    "    else:\n",
    "        print(\"Sorry\")"
   ]
  },
  {
   "cell_type": "code",
   "execution_count": 33,
   "id": "7e3e02c5",
   "metadata": {},
   "outputs": [
    {
     "name": "stdout",
     "output_type": "stream",
     "text": [
      "Sorry\n"
     ]
    }
   ],
   "source": [
    "allowedAge(100)"
   ]
  },
  {
   "cell_type": "code",
   "execution_count": 37,
   "id": "9c31635f",
   "metadata": {},
   "outputs": [],
   "source": [
    "def marriageAge(age):\n",
    "    if age in range(40,80):\n",
    "        print(f\"You are currently {age} years old\")\n",
    "        print(\"Therefore, you can get married!\")\n",
    "    elif age < 40:\n",
    "        print(f\"Your are currently {age} years old\")\n",
    "        print(f\"Therefore, you cannot get married\")\n",
    "    else:\n",
    "        print(f\"You are currently {age} years old and you can get married!\")"
   ]
  },
  {
   "cell_type": "code",
   "execution_count": 41,
   "id": "cf9ca9a0",
   "metadata": {},
   "outputs": [
    {
     "name": "stdout",
     "output_type": "stream",
     "text": [
      "Your are currently 20 years old\n",
      "Therefore, you cannot get married\n"
     ]
    }
   ],
   "source": [
    "marriageAge(20)"
   ]
  },
  {
   "cell_type": "code",
   "execution_count": 66,
   "id": "b5e5dce9",
   "metadata": {},
   "outputs": [],
   "source": [
    "def gender(sex=\"Unknown\"):\n",
    "    print(sex)\n",
    "    if sex == \"m\":\n",
    "        print(\"You are male\")\n",
    "    elif sex == \"f\":\n",
    "        print(\"You are a female\")\n",
    "    #else:\n",
    "        #print(\"You are an alien\")"
   ]
  },
  {
   "cell_type": "code",
   "execution_count": 67,
   "id": "0c60e68c",
   "metadata": {},
   "outputs": [
    {
     "name": "stdout",
     "output_type": "stream",
     "text": [
      "Unknown\n"
     ]
    }
   ],
   "source": [
    "gender()"
   ]
  },
  {
   "cell_type": "code",
   "execution_count": 20,
   "id": "7fb42009",
   "metadata": {},
   "outputs": [],
   "source": [
    "def BMI_calculator():\n",
    "    height = int(input(\"Your height: \"))\n",
    "    weight = int(input(\"Your weight: \"))\n",
    "    bmi = height / (weight * 2)\n",
    "    print(bmi)"
   ]
  },
  {
   "cell_type": "code",
   "execution_count": 21,
   "id": "d07b2722",
   "metadata": {},
   "outputs": [
    {
     "name": "stdout",
     "output_type": "stream",
     "text": [
      "Your height: 88\n",
      "Your weight: 456\n",
      "0.09649122807017543\n"
     ]
    }
   ],
   "source": [
    "BMI_calculator()"
   ]
  },
  {
   "cell_type": "code",
   "execution_count": 54,
   "id": "dd2fc2d3",
   "metadata": {},
   "outputs": [
    {
     "name": "stdout",
     "output_type": "stream",
     "text": [
      "Enter first number:-66\n",
      "Enter second number:-44\n",
      "The smaller number between 66 and 44 is 44\n"
     ]
    }
   ],
   "source": [
    "def smaller_num(x, y): ## Can be rephrased to  def smaller_num(x, y):\n",
    "    if x > y:          ##                          if x > y:\n",
    "        number = y     ##                              return y\n",
    "    else:              ##                          else:\n",
    "        number = x     ##                              return x\n",
    "    return number\n",
    "\n",
    "x = input(\"Enter first number:-\")\n",
    "y = input(\"Enter second number:-\")\n",
    "result = smaller_num(x, y)\n",
    "print(\"The smaller number between \" +  str(x) + \" and \" + str(y) + \" is \" + str(result))"
   ]
  },
  {
   "cell_type": "code",
   "execution_count": 55,
   "id": "a25e7cda",
   "metadata": {},
   "outputs": [
    {
     "name": "stdout",
     "output_type": "stream",
     "text": [
      "Kindly input your height: 55\n",
      "Kindly input your weight: 53\n",
      "Your BMI is 0.5188679245283019\n"
     ]
    }
   ],
   "source": [
    "def BMI_calculator(height, weight):\n",
    "    bmi = height / (weight * 2)\n",
    "    return bmi\n",
    "\n",
    "height = int(input('Kindly input your height: '))\n",
    "weight = int(input('Kindly input your weight: '))\n",
    "bmi = BMI_calculator(height,weight)\n",
    "print('Your BMI is {}'.format(bmi))"
   ]
  },
  {
   "cell_type": "code",
   "execution_count": 61,
   "id": "9a4a45bc",
   "metadata": {},
   "outputs": [
    {
     "name": "stdout",
     "output_type": "stream",
     "text": [
      "Please input your age: 60\n",
      "Please input your weight: 46\n",
      "Your age is 60, your weight is 46 and the total is 2760\n"
     ]
    }
   ],
   "source": [
    "def calcFunc(age, weight):\n",
    "    calc = age * weight\n",
    "    return calc\n",
    "age = int(input(\"Please input your age: \"))\n",
    "weight = int(input(\"Please input your weight: \"))\n",
    "calc = calcFunc(age, weight)\n",
    "print(f\"Your age is {age}, your weight is {weight} and the total is {calc}\")"
   ]
  },
  {
   "cell_type": "code",
   "execution_count": 89,
   "id": "38032704",
   "metadata": {},
   "outputs": [
    {
     "name": "stdout",
     "output_type": "stream",
     "text": [
      "Specify the first damage:- 3\n",
      "Specify the second damage:- 5\n",
      "Specify the time taken in minutes, seconds or hours:- hours\n",
      "Your first damage is 3\n",
      "Your second damage is 5\n",
      "The time specified is in hours\n",
      "Therefore, damage received per minute is 54000\n"
     ]
    }
   ],
   "source": [
    "def damagePerSecond(val1, val2, val3):\n",
    "    \n",
    "    if val3 == \"seconds\":\n",
    "        val3 = 1\n",
    "        damage = val1 * val2 * val3\n",
    "        return damage\n",
    "        \n",
    "    elif val3 == \"minutes\":\n",
    "        val3 = 60\n",
    "        damage = val1 * val2 * val3\n",
    "        return damage\n",
    "        \n",
    "    elif val3 == \"hours\":\n",
    "        val3 = 3600\n",
    "        damage = val1 * val2 * val3\n",
    "        return damage\n",
    "        \n",
    "    else: \n",
    "        print(\"Invalid input!, please insert either 'seconds', 'minutes' or 'hours'. Try again.\")\n",
    "        \n",
    "val1 = int(input(\"Specify the first damage:- \"))\n",
    "val2 = int(input(\"Specify the second damage:- \"))\n",
    "val3 = str(input(\"Specify the time taken in minutes, seconds or hours:- \"))\n",
    "damage = damagePerSecond(val1, val2, val3)\n",
    "print(f\"Your first damage is {val1}\")\n",
    "print(f\"Your second damage is {val2}\")\n",
    "print(f\"The time specified is in {val3}\")\n",
    "print(f\"Therefore, damage received per minute is {damage}\")"
   ]
  },
  {
   "cell_type": "code",
   "execution_count": 43,
   "id": "58d8e3ef",
   "metadata": {},
   "outputs": [
    {
     "name": "stdout",
     "output_type": "stream",
     "text": [
      "Input any string of words, preferably more than one...:-The Best Data Science In Nigeria\n",
      "TBDSIN\n"
     ]
    }
   ],
   "source": [
    "userInput = str(input(\"Input any string of words, preferably more than one...:-\"))\n",
    "words = userInput.split()\n",
    "acr = \"\"\n",
    "for word in words:\n",
    "    acr = acr + word[0].upper()\n",
    "    \n",
    "print(acr)"
   ]
  },
  {
   "cell_type": "code",
   "execution_count": 47,
   "id": "c42c0637",
   "metadata": {},
   "outputs": [
    {
     "name": "stdout",
     "output_type": "stream",
     "text": [
      "What do you want to abbreviate?: Fix Nigeria Agenda\n",
      "FNA\n"
     ]
    }
   ],
   "source": [
    "getInput = str(input(\"What do you want to abbreviate?: \"))\n",
    "wordLi = getInput.split()\n",
    "arc = \"\"\n",
    "for wordEl in wordLi:\n",
    "    arc = arc + wordEl[0].upper()\n",
    "print(arc)"
   ]
  },
  {
   "cell_type": "code",
   "execution_count": 8,
   "id": "0f16a176",
   "metadata": {},
   "outputs": [
    {
     "name": "stdout",
     "output_type": "stream",
     "text": [
      "100\n"
     ]
    }
   ],
   "source": [
    "x = 0\n",
    "while x < 100:\n",
    "    x += 2\n",
    "print(x)"
   ]
  },
  {
   "cell_type": "code",
   "execution_count": null,
   "id": "42ef2b23",
   "metadata": {},
   "outputs": [],
   "source": []
  }
 ],
 "metadata": {
  "kernelspec": {
   "display_name": "Python 3 (ipykernel)",
   "language": "python",
   "name": "python3"
  },
  "language_info": {
   "codemirror_mode": {
    "name": "ipython",
    "version": 3
   },
   "file_extension": ".py",
   "mimetype": "text/x-python",
   "name": "python",
   "nbconvert_exporter": "python",
   "pygments_lexer": "ipython3",
   "version": "3.9.12"
  }
 },
 "nbformat": 4,
 "nbformat_minor": 5
}
